{
 "cells": [
  {
   "cell_type": "code",
   "execution_count": 2,
   "metadata": {},
   "outputs": [
    {
     "name": "stdout",
     "output_type": "stream",
     "text": [
      "The autoreload extension is already loaded. To reload it, use:\n",
      "  %reload_ext autoreload\n"
     ]
    }
   ],
   "source": [
    "%load_ext autoreload\n",
    "%autoreload 2\n",
    "import discrimination\n",
    "import random\n",
    "import re\n",
    "import wikipedia\n",
    "import requests\n",
    "import json"
   ]
  },
  {
   "cell_type": "markdown",
   "metadata": {},
   "source": [
    "#### Else"
   ]
  },
  {
   "cell_type": "code",
   "execution_count": 3,
   "metadata": {},
   "outputs": [],
   "source": [
    "pages = discrimination.wiki.search(query = \"women\", language= \"en\")"
   ]
  },
  {
   "cell_type": "code",
   "execution_count": 4,
   "metadata": {},
   "outputs": [],
   "source": [
    "lista = [pages[0]]"
   ]
  },
  {
   "cell_type": "code",
   "execution_count": 7,
   "metadata": {},
   "outputs": [
    {
     "data": {
      "text/plain": [
       "['Feminine psychology',\n",
       " 'Femininity',\n",
       " 'Feminism',\n",
       " 'Feminization (sociology)',\n",
       " 'Gender differences',\n",
       " 'Lists of women',\n",
       " 'Matriarchy',\n",
       " 'Misogyny',\n",
       " 'Sex assignment',\n",
       " 'Sexism',\n",
       " \"Women's studies\"]"
      ]
     },
     "execution_count": 7,
     "metadata": {},
     "output_type": "execute_result"
    }
   ],
   "source": [
    "discrimination.wiki.related(lista)"
   ]
  },
  {
   "cell_type": "markdown",
   "metadata": {},
   "source": [
    "#### Get section number"
   ]
  },
  {
   "cell_type": "code",
   "execution_count": null,
   "metadata": {},
   "outputs": [],
   "source": [
    "ask4sections = \"https://en.wikipedia.org/w/api.php?action=parse&prop=sections&page=\" + title + \"&format=json\""
   ]
  },
  {
   "cell_type": "code",
   "execution_count": null,
   "metadata": {},
   "outputs": [],
   "source": [
    "r = requests.get(ask4sections)"
   ]
  },
  {
   "cell_type": "code",
   "execution_count": null,
   "metadata": {},
   "outputs": [],
   "source": [
    "j = r.json()"
   ]
  },
  {
   "cell_type": "code",
   "execution_count": null,
   "metadata": {},
   "outputs": [],
   "source": [
    "for sec in j[\"parse\"][\"sections\"]:\n",
    "    if sec[\"line\"] == \"See also\":\n",
    "        index = sec[\"index\"]"
   ]
  },
  {
   "cell_type": "markdown",
   "metadata": {},
   "source": [
    "#### Get links"
   ]
  },
  {
   "cell_type": "code",
   "execution_count": null,
   "metadata": {},
   "outputs": [],
   "source": [
    "https://en.wikipedia.org/w/api.php?action=parse&prop=links&page=Women%20in%20India&section=34&format=json"
   ]
  },
  {
   "cell_type": "code",
   "execution_count": null,
   "metadata": {},
   "outputs": [],
   "source": [
    "ask4links = \"https://en.wikipedia.org/w/api.php?action=parse&prop=links&page=\" + title + \"&section=\" + index + \"&format=json\""
   ]
  },
  {
   "cell_type": "code",
   "execution_count": null,
   "metadata": {},
   "outputs": [],
   "source": [
    "r = requests.get(ask4links)"
   ]
  },
  {
   "cell_type": "code",
   "execution_count": null,
   "metadata": {},
   "outputs": [],
   "source": [
    "j = r.json()"
   ]
  },
  {
   "cell_type": "code",
   "execution_count": null,
   "metadata": {},
   "outputs": [],
   "source": [
    "for link in j[\"parse\"][\"links\"]:\n",
    "    if link[\"ns\"] == 0:\n",
    "        print(link[\"*\"])"
   ]
  },
  {
   "cell_type": "markdown",
   "metadata": {},
   "source": [
    "#### Get text"
   ]
  },
  {
   "cell_type": "code",
   "execution_count": null,
   "metadata": {},
   "outputs": [],
   "source": [
    "counter = 1\n",
    "\n",
    "for pg in pages:\n",
    "    \n",
    "    try:\n",
    "        page = wikipedia.page(pg)\n",
    "        urls.append(page.url)\n",
    "        titles.append(page.title)\n",
    "        txt = page.content\n",
    "        rgx1 = re.findall('== See also[\\s\\S]+', txt)\n",
    "        rgx2 = re.findall('== References[\\s\\S]+', txt)\n",
    "        rgx3 = re.findall('== External links[\\s\\S]+', txt)\n",
    "        if len(rgx1) != 0:\n",
    "            txt = txt.replace(rgx1[0], \"\")\n",
    "        elif len(rgx2) != 0:\n",
    "            txt = txt.replace(rgx2[0], \"\")\n",
    "        elif len(rgx3) != 0:\n",
    "            txt = txt.replace(rgx3[0], \"\")\n",
    "        headers = re.findall('==.+==', txt)\n",
    "        for header in headers:\n",
    "            txt = txt.replace(header, \"\")\n",
    "        txts.append(txt)\n",
    "    \n",
    "    except Exception:\n",
    "        pass \n",
    "    \n",
    "    print(counter, end=\" \")\n",
    "    counter += 1"
   ]
  },
  {
   "cell_type": "code",
   "execution_count": null,
   "metadata": {},
   "outputs": [],
   "source": [
    "# Split into a list of sentences\n",
    "wiki_temp = discrimination.texts.sentences_split(txts)\n",
    "# Combine all lists in one big list of sentences\n",
    "wiki_sentences = []\n",
    "for item in wiki_temp:\n",
    "    for sentence in item:\n",
    "        wiki_sentences.append(sentence)"
   ]
  },
  {
   "cell_type": "code",
   "execution_count": null,
   "metadata": {},
   "outputs": [],
   "source": [
    "len(wiki_sentences)"
   ]
  },
  {
   "cell_type": "code",
   "execution_count": null,
   "metadata": {},
   "outputs": [],
   "source": [
    "random.sample(wiki_sentences, 10)"
   ]
  },
  {
   "cell_type": "code",
   "execution_count": null,
   "metadata": {},
   "outputs": [],
   "source": [
    "# Tokenize sentences and remove stop-words\n",
    "sex_tokens = discrimination.texts.tokenize(sex_sentences)\n",
    "# Spell-check tokens. This actually takes some time (not too much) so there's a timer every 20.000 tokens checked.\n",
    "sex_tokens = discrimination.texts.spellcheck_tokens(sex_tokens)\n",
    "# Remove stop-words a second time, in case some stopwords where misspelled.\n",
    "sex_tokens = discrimination.texts.remove_stopwords(sex_tokens)\n",
    "# Remove empty tokens and the relevant sentences.\n",
    "temp_tokens = sex_tokens.copy()\n",
    "temp_sentences = sex_sentences.copy()\n",
    "sex_tokens.clear()\n",
    "sex_sentences.clear()\n",
    "for i, tkn in enumerate(temp_tokens):\n",
    "    if len(tkn) != 0:\n",
    "        sex_tokens.append(tkn)\n",
    "        sex_sentences.append(temp_sentences[i])"
   ]
  }
 ],
 "metadata": {
  "kernelspec": {
   "display_name": "Python 3",
   "language": "python",
   "name": "python3"
  },
  "language_info": {
   "codemirror_mode": {
    "name": "ipython",
    "version": 3
   },
   "file_extension": ".py",
   "mimetype": "text/x-python",
   "name": "python",
   "nbconvert_exporter": "python",
   "pygments_lexer": "ipython3",
   "version": "3.7.5"
  }
 },
 "nbformat": 4,
 "nbformat_minor": 4
}
